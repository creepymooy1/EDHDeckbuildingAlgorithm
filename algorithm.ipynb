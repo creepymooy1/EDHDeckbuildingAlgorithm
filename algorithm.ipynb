{
 "cells": [
  {
   "cell_type": "code",
   "execution_count": 1,
   "id": "b4df3384",
   "metadata": {},
   "outputs": [],
   "source": [
    "import requests\n",
    "import json\n",
    "\n",
    "def fetch_valid_card_names():\n",
    "    valid_card_names = set()\n",
    "    url = \"https://api.scryfall.com/catalog/card-names?q=legal:commander\"\n",
    "    while url:\n",
    "        response = requests.get(url)\n",
    "        data = json.loads(response.text)\n",
    "        cards = data.get(\"data\", [])\n",
    "\n",
    "        for card in cards:\n",
    "            valid_card_names.add(card)  # No need to access a \"name\" key\n",
    "\n",
    "        if data.get(\"has_more\"):\n",
    "            url = data[\"next_page\"]\n",
    "        else:\n",
    "            break\n",
    "\n",
    "    return valid_card_names\n",
    "\n",
    "valid_card_names = fetch_valid_card_names()\n"
   ]
  },
  {
   "cell_type": "code",
   "execution_count": 2,
   "id": "b5fc8525",
   "metadata": {},
   "outputs": [],
   "source": [
    "# Cell 1 - Split decks into main decks and sideboards\n",
    "import os\n",
    "\n",
    "data_dir = r'C:\\Users\\Devin\\Desktop\\MTG Deckbuilding Algorithm\\data'\n",
    "deck_files = os.listdir(data_dir)\n",
    "main_decks = []\n",
    "sideboards = []\n",
    "\n",
    "for deck_file in deck_files:\n",
    "    file_path = os.path.join(data_dir, deck_file)\n",
    "    with open(file_path, 'r', encoding='utf-8', errors='replace') as file:\n",
    "        deck_lines = file.readlines()\n",
    "        sideboard_index = deck_lines.index('Sideboard\\n')\n",
    "        main_deck = ''.join(deck_lines[:sideboard_index])\n",
    "        sideboard = ''.join(deck_lines[sideboard_index+1:])\n",
    "        main_decks.append(main_deck)\n",
    "        sideboards.append(sideboard)\n",
    "\n",
    "# Cell 1 - Combine the sideboard (commander) and main deck\n",
    "combined_decks = []\n",
    "\n",
    "for main_deck, sideboard in zip(main_decks, sideboards):\n",
    "    combined_decks.append(sideboard + main_deck)\n"
   ]
  },
  {
   "cell_type": "code",
   "execution_count": 3,
   "id": "cae39775",
   "metadata": {},
   "outputs": [],
   "source": [
    "# Cell 2 - Tokenize the combined decks\n",
    "import numpy as np\n",
    "from tensorflow.keras.preprocessing.text import Tokenizer\n",
    "from tensorflow.keras.preprocessing.sequence import pad_sequences\n",
    "\n",
    "tokenizer = Tokenizer(char_level=False, filters='', split='\\n')\n",
    "tokenizer.fit_on_texts(combined_decks)\n",
    "total_words = len(tokenizer.word_index)\n",
    "\n",
    "# Cell 2 - Convert text to sequences\n",
    "sequences = tokenizer.texts_to_sequences(combined_decks)\n",
    "\n",
    "# Cell 2 - Prepare input and target sequences\n",
    "seq_length = 100\n",
    "input_data = []\n",
    "target_data = []\n",
    "\n",
    "for deck_seq in sequences:\n",
    "    for i in range(len(deck_seq) - seq_length):\n",
    "        input_data.append(deck_seq[i:i + seq_length])\n",
    "        target_data.append(deck_seq[i + seq_length])\n",
    "\n",
    "input_data = np.array(input_data)\n",
    "target_data = np.array(target_data)\n"
   ]
  },
  {
   "cell_type": "code",
   "execution_count": 4,
   "id": "ab1a0bb1",
   "metadata": {},
   "outputs": [],
   "source": [
    "from tensorflow.keras.models import Sequential\n",
    "from tensorflow.keras.layers import LSTM, Dense, Embedding\n",
    "\n",
    "model = Sequential([\n",
    "    Embedding(total_words + 1, 256, input_length=seq_length),\n",
    "    LSTM(256, return_sequences=True),\n",
    "    LSTM(256),\n",
    "    Dense(total_words + 1, activation='softmax')\n",
    "])\n",
    "\n",
    "model.compile(loss='sparse_categorical_crossentropy', optimizer='adam')\n"
   ]
  },
  {
   "cell_type": "code",
   "execution_count": 5,
   "id": "b02936c3",
   "metadata": {},
   "outputs": [
    {
     "name": "stdout",
     "output_type": "stream",
     "text": [
      "Epoch 1/10\n",
      "2/2 [==============================] - 5s 307ms/step - loss: 8.0403\n",
      "Epoch 2/10\n",
      "2/2 [==============================] - 1s 323ms/step - loss: 7.9848\n",
      "Epoch 3/10\n",
      "2/2 [==============================] - 1s 293ms/step - loss: 7.6867\n",
      "Epoch 4/10\n",
      "2/2 [==============================] - 1s 307ms/step - loss: 6.0222\n",
      "Epoch 5/10\n",
      "2/2 [==============================] - 1s 326ms/step - loss: 4.7439\n",
      "Epoch 6/10\n",
      "2/2 [==============================] - 1s 304ms/step - loss: 3.5401\n",
      "Epoch 7/10\n",
      "2/2 [==============================] - 1s 303ms/step - loss: 2.5008\n",
      "Epoch 8/10\n",
      "2/2 [==============================] - 1s 307ms/step - loss: 1.8588\n",
      "Epoch 9/10\n",
      "2/2 [==============================] - 1s 296ms/step - loss: 1.5393\n",
      "Epoch 10/10\n",
      "2/2 [==============================] - 1s 303ms/step - loss: 1.3289\n"
     ]
    },
    {
     "data": {
      "text/plain": [
       "<keras.callbacks.History at 0x2cb3be270d0>"
      ]
     },
     "execution_count": 5,
     "metadata": {},
     "output_type": "execute_result"
    }
   ],
   "source": [
    "model.fit(input_data, target_data, epochs=10, batch_size=16)"
   ]
  },
  {
   "cell_type": "code",
   "execution_count": 6,
   "id": "dd006de1",
   "metadata": {},
   "outputs": [],
   "source": [
    "def generate_cards(commander, num_cards):\n",
    "    # This function should be implemented using the trained model.\n",
    "    # It should generate 'num_cards' cards based on the given 'commander'.\n",
    "    pass"
   ]
  },
  {
   "cell_type": "code",
   "execution_count": 7,
   "id": "c5215c57",
   "metadata": {},
   "outputs": [
    {
     "ename": "NameError",
     "evalue": "name 'generated_text' is not defined",
     "output_type": "error",
     "traceback": [
      "\u001b[1;31m---------------------------------------------------------------------------\u001b[0m",
      "\u001b[1;31mNameError\u001b[0m                                 Traceback (most recent call last)",
      "Cell \u001b[1;32mIn[7], line 5\u001b[0m\n\u001b[0;32m      2\u001b[0m output_file \u001b[38;5;241m=\u001b[39m os\u001b[38;5;241m.\u001b[39mpath\u001b[38;5;241m.\u001b[39mjoin(output_dir, \u001b[38;5;124m'\u001b[39m\u001b[38;5;124mgenerated_deck.txt\u001b[39m\u001b[38;5;124m'\u001b[39m)\n\u001b[0;32m      4\u001b[0m \u001b[38;5;28;01mwith\u001b[39;00m \u001b[38;5;28mopen\u001b[39m(output_file, \u001b[38;5;124m'\u001b[39m\u001b[38;5;124mw\u001b[39m\u001b[38;5;124m'\u001b[39m, encoding\u001b[38;5;241m=\u001b[39m\u001b[38;5;124m'\u001b[39m\u001b[38;5;124mutf-8\u001b[39m\u001b[38;5;124m'\u001b[39m) \u001b[38;5;28;01mas\u001b[39;00m file:\n\u001b[1;32m----> 5\u001b[0m     file\u001b[38;5;241m.\u001b[39mwrite(\u001b[43mgenerated_text\u001b[49m)\n",
      "\u001b[1;31mNameError\u001b[0m: name 'generated_text' is not defined"
     ]
    }
   ],
   "source": [
    "output_dir = r'C:\\Users\\Devin\\Desktop\\MTG Deckbuilding Algorithm\\output'\n",
    "output_file = os.path.join(output_dir, 'generated_deck.txt')\n",
    "\n",
    "with open(output_file, 'w', encoding='utf-8') as file:\n",
    "    file.write(generated_text)\n"
   ]
  },
  {
   "cell_type": "code",
   "execution_count": null,
   "id": "6375f6fb",
   "metadata": {},
   "outputs": [],
   "source": []
  }
 ],
 "metadata": {
  "kernelspec": {
   "display_name": "Python 3 (ipykernel)",
   "language": "python",
   "name": "python3"
  },
  "language_info": {
   "codemirror_mode": {
    "name": "ipython",
    "version": 3
   },
   "file_extension": ".py",
   "mimetype": "text/x-python",
   "name": "python",
   "nbconvert_exporter": "python",
   "pygments_lexer": "ipython3",
   "version": "3.10.9"
  }
 },
 "nbformat": 4,
 "nbformat_minor": 5
}
